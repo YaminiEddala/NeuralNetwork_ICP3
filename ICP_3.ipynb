{
  "cells": [
    {
      "cell_type": "markdown",
      "metadata": {
        "id": "view-in-github",
        "colab_type": "text"
      },
      "source": [
        "<a href=\"https://colab.research.google.com/github/YaminiEddala/NeuralNetwork_ICP3/blob/main/ICP_3.ipynb\" target=\"_parent\"><img src=\"https://colab.research.google.com/assets/colab-badge.svg\" alt=\"Open In Colab\"/></a>"
      ]
    },
    {
      "cell_type": "markdown",
      "id": "cc96168a",
      "metadata": {
        "id": "cc96168a"
      },
      "source": [
        "# Spring 2024: CS5720\n",
        "## Neural Networks & Deep Learning - ICP-3"
      ]
    },
    {
      "cell_type": "code",
      "execution_count": 2,
      "id": "c0621a84",
      "metadata": {
        "id": "c0621a84"
      },
      "outputs": [],
      "source": [
        "# importing necessary libraries for the assignment\n",
        "import numpy as np"
      ]
    },
    {
      "cell_type": "markdown",
      "id": "8b1283c3",
      "metadata": {
        "id": "8b1283c3"
      },
      "source": [
        "#### 1.Create a class Employee and then do the following\n",
        "    - • Create a data member to count the number of Employees\n",
        "    - • Create a constructor to initialize name, family, salary, department\n",
        "    - • Create a function to average salary\n",
        "    - • Create a Fulltime Employee class and it should inherit the properties of Employee class\n",
        "    - • Create the instances of Fulltime Employee class and Employee class and call their member functions."
      ]
    },
    {
      "cell_type": "code",
      "execution_count": 3,
      "id": "d20c4d37",
      "metadata": {
        "colab": {
          "base_uri": "https://localhost:8080/"
        },
        "id": "d20c4d37",
        "outputId": "ba6060e8-7252-410f-d145-78a6f3322fcf"
      },
      "outputs": [
        {
          "output_type": "stream",
          "name": "stdout",
          "text": [
            "using employee class 440000.0\n",
            "using fulltime employee class 440000.0\n"
          ]
        }
      ],
      "source": [
        "# created class Employee\n",
        "class Employee():\n",
        "    # create data members to keep count of employee count and list of salaries\n",
        "    emp_count = 0\n",
        "\n",
        "    # constructor to initilize the variables\n",
        "    def __init__(self,name:str,family:str,salary:float,department:str):\n",
        "        self.name = name,\n",
        "        self.family = family,\n",
        "        self.salary = salary,\n",
        "        self.department = department,\n",
        "        Employee.emp_count += 1\n",
        "\n",
        "    # funtion to return average of salary\n",
        "    def avg_salary(employees:list):\n",
        "        # calculate salaries average\n",
        "        salaries_list = [emp.salary[0] for emp in employees]\n",
        "        # avg_sal = sum(salaries_list)/Employee.emp_count     # method 1\n",
        "        avg_sal = np.mean(salaries_list)                      # method 2\n",
        "        return avg_sal\n",
        "\n",
        "# created FullTimeEmployee class and inherit the properties from Employee class\n",
        "class FullTimeEmployee(Employee):\n",
        "    def __init__(self,name:str,family:int,salary:float,department:str):\n",
        "        # calling parent class constructor\n",
        "        super().__init__(name,family,salary,department)\n",
        "\n",
        "employees = []\n",
        "employees.append(Employee(\"Yamini\",\"Eddala\",340000,\"analytics\"))\n",
        "employees.append(Employee(\"Raju\",\"Eddala\",510000,\"CTO\"))\n",
        "\n",
        "employees.append(FullTimeEmployee(\"Yamini Raju\",\"Raju\",360000,\"data science\"))\n",
        "employees.append(FullTimeEmployee(\"Thyaga\",\"Eddala\",550000,\"data analytics\"))\n",
        "\n",
        "\n",
        "print(\"using employee class\",Employee.avg_salary(employees))\n",
        "print(\"using fulltime employee class\",FullTimeEmployee.avg_salary(employees))"
      ]
    },
    {
      "cell_type": "markdown",
      "id": "26ed0c91",
      "metadata": {
        "id": "26ed0c91"
      },
      "source": [
        "#### 2. Using NumPy create random vector of size 20 having only float in the range 1-20.\n",
        "    -Then reshape the array to 4 by 5\n",
        "    -Then replace the max in each row by 0 (axis=1)\n",
        "(you can NOT implement it via for loop)"
      ]
    },
    {
      "cell_type": "code",
      "execution_count": 5,
      "id": "f7a43f89",
      "metadata": {
        "id": "f7a43f89"
      },
      "outputs": [],
      "source": [
        "arr = np.random.uniform(1,20,20) # created a random vector of size 20 in the range of 1 - 20.\n",
        "arr = arr.reshape(4,5) # reshaped the vector to array of (4,5) shape"
      ]
    },
    {
      "cell_type": "code",
      "execution_count": 6,
      "id": "a5925cdd",
      "metadata": {
        "colab": {
          "base_uri": "https://localhost:8080/"
        },
        "id": "a5925cdd",
        "outputId": "93c577ce-5163-4d4d-c13a-4340f4c397d7"
      },
      "outputs": [
        {
          "output_type": "stream",
          "name": "stdout",
          "text": [
            "array before :\n",
            "\n",
            " [[19.95798207 16.84209252 11.48775383 16.76206886 14.27404765]\n",
            " [19.69252238 14.93005297 13.60260225  7.33202541  6.11022948]\n",
            " [12.9878328   4.02473728 19.41884601 13.44598203 10.99376082]\n",
            " [17.46774865  2.06654348 14.48063519 10.96050011 18.87071344]]\n",
            "\n",
            "\n",
            "array after replace the max element of each row with 1: \n",
            "\n",
            " [[ 1.         16.84209252 11.48775383 16.76206886 14.27404765]\n",
            " [ 1.         14.93005297 13.60260225  7.33202541  6.11022948]\n",
            " [12.9878328   4.02473728  1.         13.44598203 10.99376082]\n",
            " [17.46774865  2.06654348 14.48063519 10.96050011  1.        ]]\n"
          ]
        }
      ],
      "source": [
        "# replace the max in each row by 0 (axis = 1)\n",
        "\n",
        "# print array before replacement\n",
        "print(\"array before :\\n\\n\",arr,end=\"\\n\\n\\n\")\n",
        "\n",
        "# get max elements of each row and reshape it\n",
        "row_wise_max = np.max(arr,axis = 1).reshape(-1,1)\n",
        "\n",
        "arr[arr == row_wise_max] = 1\n",
        "\n",
        "# print array after replacement\n",
        "print(\"array after replace the max element of each row with 1: \\n\\n\", arr)"
      ]
    },
    {
      "cell_type": "code",
      "execution_count": null,
      "id": "571557c1",
      "metadata": {
        "id": "571557c1"
      },
      "outputs": [],
      "source": []
    }
  ],
  "metadata": {
    "kernelspec": {
      "display_name": "Python 3 (ipykernel)",
      "language": "python",
      "name": "python3"
    },
    "language_info": {
      "codemirror_mode": {
        "name": "ipython",
        "version": 3
      },
      "file_extension": ".py",
      "mimetype": "text/x-python",
      "name": "python",
      "nbconvert_exporter": "python",
      "pygments_lexer": "ipython3",
      "version": "3.9.7"
    },
    "colab": {
      "provenance": [],
      "include_colab_link": true
    }
  },
  "nbformat": 4,
  "nbformat_minor": 5
}